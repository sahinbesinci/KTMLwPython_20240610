{
 "cells": [
  {
   "cell_type": "markdown",
   "metadata": {},
   "source": [
    "## Matplotlib İle Grafik Çizimi\n",
    "* **Matplotlib**, Python'da grafik çizimi için kullanılan kütüphanedir.\n",
    "  * 2D grafikler çizmek için kullanılan temel kütüphane.\n",
    "  * 2d üzerinde 3d grafikler, resimler çizilebilir, animsayonlu grafikler oluşturulabilir.\n",
    "  * Bir çok grafik türünü destekliyor. Çok esnek bu grafikler özelleştirilebilir.\n",
    "  * Grafikler farklı formatlarda kayededilebilir (png, pdf, ps vs.)\n",
    "  * Basılı formatta yayın kalitesi belirlenebilir. Vektörel çıktılar alınabilir.\n",
    "\n",
    "*** 3 Katman Mevcut:**\n",
    "  1. Scripting Layer: Her şeyin bir arada yapılabildiği işleri otomatikleştiren.\n",
    "  2. Artist Layer: Figure, Axes, Line, Cycle, Text yönetimi için.\n",
    "  3. Backend Layer: FigureCanvas, Render, Event ile ilgilenir.\n",
    "\n",
    "* **Pencere Gösterme Yöntemleri**\n",
    "  ```python\n",
    "  #prompt üzerinde yeni pencere.\n",
    "  %matplotlib\n",
    "\n",
    "  #notebook ğüzerinde görmek için\n",
    "  %matplotlib inline\n",
    "\n",
    "  #interaktif pencere için\n",
    "  %matplotlib notebook\n",
    "  ```\n",
    "\n",
    "![alt text](matplotlibYapisi.png)"
   ]
  },
  {
   "cell_type": "code",
   "execution_count": null,
   "metadata": {
    "vscode": {
     "languageId": "plaintext"
    }
   },
   "outputs": [],
   "source": []
  }
 ],
 "metadata": {
  "language_info": {
   "name": "python"
  }
 },
 "nbformat": 4,
 "nbformat_minor": 2
}
