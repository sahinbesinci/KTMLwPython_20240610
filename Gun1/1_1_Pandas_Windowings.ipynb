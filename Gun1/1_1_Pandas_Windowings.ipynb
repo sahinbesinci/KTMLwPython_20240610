{
 "cells": [
  {
   "cell_type": "markdown",
   "metadata": {},
   "source": [
    "## Pandas Windowing Functions\n",
    "* 4 windowing functions are available in pandas\n",
    "    * rolling: \n",
    "    * expanding:\n",
    "    * ewm: \n",
    "    * weighted:"
   ]
  },
  {
   "cell_type": "code",
   "execution_count": 2,
   "metadata": {},
   "outputs": [],
   "source": [
    "import numpy as np\n",
    "import pandas as pd\n",
    "\n",
    "import matplotlib.pyplot as plt"
   ]
  },
  {
   "cell_type": "markdown",
   "metadata": {},
   "source": [
    "### Expanding window\n",
    "* kümülatif toplamı verir"
   ]
  },
  {
   "cell_type": "code",
   "execution_count": 7,
   "metadata": {},
   "outputs": [
    {
     "data": {
      "text/html": [
       "<div>\n",
       "<style scoped>\n",
       "    .dataframe tbody tr th:only-of-type {\n",
       "        vertical-align: middle;\n",
       "    }\n",
       "\n",
       "    .dataframe tbody tr th {\n",
       "        vertical-align: top;\n",
       "    }\n",
       "\n",
       "    .dataframe thead tr th {\n",
       "        text-align: left;\n",
       "    }\n",
       "\n",
       "    .dataframe thead tr:last-of-type th {\n",
       "        text-align: right;\n",
       "    }\n",
       "</style>\n",
       "<table border=\"1\" class=\"dataframe\">\n",
       "  <thead>\n",
       "    <tr>\n",
       "      <th></th>\n",
       "      <th colspan=\"6\" halign=\"left\">B</th>\n",
       "    </tr>\n",
       "    <tr>\n",
       "      <th></th>\n",
       "      <th>sum</th>\n",
       "      <th>max</th>\n",
       "      <th>min</th>\n",
       "      <th>mean</th>\n",
       "      <th>std</th>\n",
       "      <th>count</th>\n",
       "    </tr>\n",
       "    <tr>\n",
       "      <th>A</th>\n",
       "      <th></th>\n",
       "      <th></th>\n",
       "      <th></th>\n",
       "      <th></th>\n",
       "      <th></th>\n",
       "      <th></th>\n",
       "    </tr>\n",
       "  </thead>\n",
       "  <tbody>\n",
       "    <tr>\n",
       "      <th>a</th>\n",
       "      <td>8</td>\n",
       "      <td>5</td>\n",
       "      <td>0</td>\n",
       "      <td>2.666667</td>\n",
       "      <td>2.516611</td>\n",
       "      <td>3</td>\n",
       "    </tr>\n",
       "    <tr>\n",
       "      <th>b</th>\n",
       "      <td>5</td>\n",
       "      <td>4</td>\n",
       "      <td>1</td>\n",
       "      <td>2.500000</td>\n",
       "      <td>2.121320</td>\n",
       "      <td>2</td>\n",
       "    </tr>\n",
       "    <tr>\n",
       "      <th>c</th>\n",
       "      <td>2</td>\n",
       "      <td>2</td>\n",
       "      <td>2</td>\n",
       "      <td>2.000000</td>\n",
       "      <td>NaN</td>\n",
       "      <td>1</td>\n",
       "    </tr>\n",
       "  </tbody>\n",
       "</table>\n",
       "</div>"
      ],
      "text/plain": [
       "    B                                  \n",
       "  sum max min      mean       std count\n",
       "A                                      \n",
       "a   8   5   0  2.666667  2.516611     3\n",
       "b   5   4   1  2.500000  2.121320     2\n",
       "c   2   2   2  2.000000       NaN     1"
      ]
     },
     "execution_count": 7,
     "metadata": {},
     "output_type": "execute_result"
    }
   ],
   "source": [
    "df = pd.DataFrame({\"A\":['a','b','c','a','b','a'], 'B':range(6)})\n",
    "\n",
    "df.groupby('A').sum()\n",
    "df.groupby('A').agg(['sum','max','min','mean','std','count'])"
   ]
  },
  {
   "cell_type": "code",
   "execution_count": 8,
   "metadata": {},
   "outputs": [
    {
     "data": {
      "text/html": [
       "<div>\n",
       "<style scoped>\n",
       "    .dataframe tbody tr th:only-of-type {\n",
       "        vertical-align: middle;\n",
       "    }\n",
       "\n",
       "    .dataframe tbody tr th {\n",
       "        vertical-align: top;\n",
       "    }\n",
       "\n",
       "    .dataframe thead tr th {\n",
       "        text-align: left;\n",
       "    }\n",
       "\n",
       "    .dataframe thead tr:last-of-type th {\n",
       "        text-align: right;\n",
       "    }\n",
       "</style>\n",
       "<table border=\"1\" class=\"dataframe\">\n",
       "  <thead>\n",
       "    <tr>\n",
       "      <th></th>\n",
       "      <th></th>\n",
       "      <th colspan=\"2\" halign=\"left\">B</th>\n",
       "    </tr>\n",
       "    <tr>\n",
       "      <th></th>\n",
       "      <th></th>\n",
       "      <th>sum</th>\n",
       "      <th>mean</th>\n",
       "    </tr>\n",
       "    <tr>\n",
       "      <th>A</th>\n",
       "      <th></th>\n",
       "      <th></th>\n",
       "      <th></th>\n",
       "    </tr>\n",
       "  </thead>\n",
       "  <tbody>\n",
       "    <tr>\n",
       "      <th rowspan=\"3\" valign=\"top\">a</th>\n",
       "      <th>0</th>\n",
       "      <td>0.0</td>\n",
       "      <td>0.000000</td>\n",
       "    </tr>\n",
       "    <tr>\n",
       "      <th>3</th>\n",
       "      <td>3.0</td>\n",
       "      <td>1.500000</td>\n",
       "    </tr>\n",
       "    <tr>\n",
       "      <th>5</th>\n",
       "      <td>8.0</td>\n",
       "      <td>2.666667</td>\n",
       "    </tr>\n",
       "    <tr>\n",
       "      <th rowspan=\"2\" valign=\"top\">b</th>\n",
       "      <th>1</th>\n",
       "      <td>1.0</td>\n",
       "      <td>1.000000</td>\n",
       "    </tr>\n",
       "    <tr>\n",
       "      <th>4</th>\n",
       "      <td>5.0</td>\n",
       "      <td>2.500000</td>\n",
       "    </tr>\n",
       "    <tr>\n",
       "      <th>c</th>\n",
       "      <th>2</th>\n",
       "      <td>2.0</td>\n",
       "      <td>2.000000</td>\n",
       "    </tr>\n",
       "  </tbody>\n",
       "</table>\n",
       "</div>"
      ],
      "text/plain": [
       "       B          \n",
       "     sum      mean\n",
       "A                 \n",
       "a 0  0.0  0.000000\n",
       "  3  3.0  1.500000\n",
       "  5  8.0  2.666667\n",
       "b 1  1.0  1.000000\n",
       "  4  5.0  2.500000\n",
       "c 2  2.0  2.000000"
      ]
     },
     "execution_count": 8,
     "metadata": {},
     "output_type": "execute_result"
    }
   ],
   "source": [
    "#birikimli toplam\n",
    "df.groupby('A')\\\n",
    "  .expanding()\\\n",
    "    .sum()\n",
    "\n",
    "#birikimli toplam\n",
    "df.groupby('A')\\\n",
    "  .expanding()\\\n",
    "    .agg(['sum','mean'])"
   ]
  },
  {
   "cell_type": "markdown",
   "metadata": {},
   "source": [
    "### Rolling Window\n",
    "* Sabit veya değişken kayan pencere oluşturma imkanı verir."
   ]
  },
  {
   "cell_type": "code",
   "execution_count": 10,
   "metadata": {},
   "outputs": [
    {
     "data": {
      "text/plain": [
       "0    NaN\n",
       "1    1.0\n",
       "2    3.0\n",
       "3    5.0\n",
       "4    7.0\n",
       "dtype: float64"
      ]
     },
     "execution_count": 10,
     "metadata": {},
     "output_type": "execute_result"
    }
   ],
   "source": [
    "seri = pd.Series(range(5))\n",
    "seri\n",
    "\n",
    "#\n",
    "seri.rolling(window=2).sum()"
   ]
  },
  {
   "cell_type": "code",
   "execution_count": 14,
   "metadata": {},
   "outputs": [
    {
     "name": "stdout",
     "output_type": "stream",
     "text": [
      "[0] -> 0\n",
      "[0, 1] -> 1\n",
      "[1, 2] -> 3\n",
      "[2, 3] -> 5\n",
      "[3, 4] -> 7\n"
     ]
    }
   ],
   "source": [
    "## pencereleri görelim\n",
    "for pencere in seri.rolling(window=2):\n",
    "    print(f\"{pencere.tolist()} -> {sum(pencere.tolist())}\")  "
   ]
  },
  {
   "cell_type": "markdown",
   "metadata": {},
   "source": [
    "#### Zaman bazlı pencere"
   ]
  },
  {
   "cell_type": "code",
   "execution_count": 22,
   "metadata": {},
   "outputs": [
    {
     "name": "stdout",
     "output_type": "stream",
     "text": [
      "[[0, 1], [0, 1, 2], [1, 2, 3], [2, 3, 4], [3, 4]]\n"
     ]
    },
    {
     "data": {
      "text/plain": [
       "2020-01-01    1.0\n",
       "2020-01-02    3.0\n",
       "2020-01-03    6.0\n",
       "2020-01-04    9.0\n",
       "2020-01-05    7.0\n",
       "Freq: D, dtype: float64"
      ]
     },
     "execution_count": 22,
     "metadata": {},
     "output_type": "execute_result"
    }
   ],
   "source": [
    "sr = pd.Series(range(5), index=pd.date_range('2020-01-01', periods=5, freq='D'))\n",
    "\n",
    "#\n",
    "# for pencere in sr.rolling(window='3D'): #3D ile 3 günlük pencere oluşturduk\n",
    "#     print(pencere.tolist())\n",
    "\n",
    "print([s.tolist() for s in sr.rolling(window='3D', center=True)])\n",
    "#\n",
    "sr.rolling(window='3D', center=True).sum()"
   ]
  },
  {
   "cell_type": "markdown",
   "metadata": {},
   "source": [
    "#### min pencere"
   ]
  },
  {
   "cell_type": "code",
   "execution_count": 26,
   "metadata": {},
   "outputs": [
    {
     "data": {
      "text/plain": [
       "0     NaN\n",
       "1     NaN\n",
       "2     3.0\n",
       "3     3.0\n",
       "4     6.0\n",
       "5     9.0\n",
       "6    15.0\n",
       "7    18.0\n",
       "dtype: float64"
      ]
     },
     "execution_count": 26,
     "metadata": {},
     "output_type": "execute_result"
    }
   ],
   "source": [
    "s = pd.Series([np.nan, 1, 2, np.nan, 4, 5, 6, 7])\n",
    "\n",
    "s\n",
    "\n",
    "#\n",
    "s.rolling(window=3).sum()\n",
    "s.rolling(window=3, min_periods=1).sum() #min_periods=1 ile eksik veriye rağmen işlem yapar. 1 dolu veri olması yeterli\n",
    "s.rolling(window=3, min_periods=2).sum() #en az 2 tane dolu değer olmalı ki hesap yapsın"
   ]
  },
  {
   "cell_type": "markdown",
   "metadata": {},
   "source": [
    "#### Pencerelerin Uç Noktaları\n",
    "* matematikteki parantezler gibi düşünülebilir\n",
    "  * `right (]` sağ uç dahil\n",
    "  * `left [)` sol uç dahil\n",
    "  * `both []` her iki uç da dahil\n",
    "  * `neither ()` her iki uç da dahil değil"
   ]
  },
  {
   "cell_type": "code",
   "execution_count": 3,
   "metadata": {},
   "outputs": [
    {
     "data": {
      "text/html": [
       "<div>\n",
       "<style scoped>\n",
       "    .dataframe tbody tr th:only-of-type {\n",
       "        vertical-align: middle;\n",
       "    }\n",
       "\n",
       "    .dataframe tbody tr th {\n",
       "        vertical-align: top;\n",
       "    }\n",
       "\n",
       "    .dataframe thead th {\n",
       "        text-align: right;\n",
       "    }\n",
       "</style>\n",
       "<table border=\"1\" class=\"dataframe\">\n",
       "  <thead>\n",
       "    <tr style=\"text-align: right;\">\n",
       "      <th></th>\n",
       "      <th>x</th>\n",
       "      <th>right</th>\n",
       "      <th>both</th>\n",
       "      <th>left</th>\n",
       "      <th>neither</th>\n",
       "    </tr>\n",
       "  </thead>\n",
       "  <tbody>\n",
       "    <tr>\n",
       "      <th>2013-01-01 09:00:01</th>\n",
       "      <td>1</td>\n",
       "      <td>1.0</td>\n",
       "      <td>1.0</td>\n",
       "      <td>NaN</td>\n",
       "      <td>NaN</td>\n",
       "    </tr>\n",
       "    <tr>\n",
       "      <th>2013-01-01 09:00:02</th>\n",
       "      <td>1</td>\n",
       "      <td>2.0</td>\n",
       "      <td>2.0</td>\n",
       "      <td>1.0</td>\n",
       "      <td>1.0</td>\n",
       "    </tr>\n",
       "    <tr>\n",
       "      <th>2013-01-01 09:00:03</th>\n",
       "      <td>1</td>\n",
       "      <td>2.0</td>\n",
       "      <td>3.0</td>\n",
       "      <td>2.0</td>\n",
       "      <td>1.0</td>\n",
       "    </tr>\n",
       "    <tr>\n",
       "      <th>2013-01-01 09:00:04</th>\n",
       "      <td>1</td>\n",
       "      <td>2.0</td>\n",
       "      <td>3.0</td>\n",
       "      <td>2.0</td>\n",
       "      <td>1.0</td>\n",
       "    </tr>\n",
       "    <tr>\n",
       "      <th>2013-01-01 09:00:06</th>\n",
       "      <td>1</td>\n",
       "      <td>1.0</td>\n",
       "      <td>2.0</td>\n",
       "      <td>1.0</td>\n",
       "      <td>NaN</td>\n",
       "    </tr>\n",
       "  </tbody>\n",
       "</table>\n",
       "</div>"
      ],
      "text/plain": [
       "                     x  right  both  left  neither\n",
       "2013-01-01 09:00:01  1    1.0   1.0   NaN      NaN\n",
       "2013-01-01 09:00:02  1    2.0   2.0   1.0      1.0\n",
       "2013-01-01 09:00:03  1    2.0   3.0   2.0      1.0\n",
       "2013-01-01 09:00:04  1    2.0   3.0   2.0      1.0\n",
       "2013-01-01 09:00:06  1    1.0   2.0   1.0      NaN"
      ]
     },
     "execution_count": 3,
     "metadata": {},
     "output_type": "execute_result"
    }
   ],
   "source": [
    "df = pd.DataFrame( {'x':1}\n",
    "             ,index=[\n",
    "                    pd.Timestamp('20130101 09:00:01'),\n",
    "                    pd.Timestamp('20130101 09:00:02'),\n",
    "                    pd.Timestamp('20130101 09:00:03'),\n",
    "                    pd.Timestamp('20130101 09:00:04'),\n",
    "                    pd.Timestamp('20130101 09:00:06')]\n",
    "        )\n",
    "\n",
    "#\n",
    "df[\"right\"] = df.rolling('2s', closed='right').x.sum()\n",
    "df[\"both\"] = df.rolling('2s', closed='both').x.sum()\n",
    "df[\"left\"] = df.rolling('2s', closed='left').x.sum()\n",
    "df[\"neither\"] = df.rolling('2s', closed='neither').x.sum()\n",
    "\n",
    "\n",
    "df"
   ]
  },
  {
   "cell_type": "markdown",
   "metadata": {},
   "source": [
    "### Özel Pencere Oluşturma\n",
    "* sabit olmayan uzaklıklar için pencerelereme yapılabilir."
   ]
  },
  {
   "cell_type": "code",
   "execution_count": 6,
   "metadata": {},
   "outputs": [
    {
     "data": {
      "text/html": [
       "<div>\n",
       "<style scoped>\n",
       "    .dataframe tbody tr th:only-of-type {\n",
       "        vertical-align: middle;\n",
       "    }\n",
       "\n",
       "    .dataframe tbody tr th {\n",
       "        vertical-align: top;\n",
       "    }\n",
       "\n",
       "    .dataframe thead th {\n",
       "        text-align: right;\n",
       "    }\n",
       "</style>\n",
       "<table border=\"1\" class=\"dataframe\">\n",
       "  <thead>\n",
       "    <tr style=\"text-align: right;\">\n",
       "      <th></th>\n",
       "      <th>A</th>\n",
       "      <th>Rolling</th>\n",
       "      <th>GünAdi</th>\n",
       "    </tr>\n",
       "  </thead>\n",
       "  <tbody>\n",
       "    <tr>\n",
       "      <th>2020-01-01</th>\n",
       "      <td>0</td>\n",
       "      <td>0.0</td>\n",
       "      <td>Wednesday</td>\n",
       "    </tr>\n",
       "    <tr>\n",
       "      <th>2020-01-02</th>\n",
       "      <td>1</td>\n",
       "      <td>1.0</td>\n",
       "      <td>Thursday</td>\n",
       "    </tr>\n",
       "    <tr>\n",
       "      <th>2020-01-03</th>\n",
       "      <td>2</td>\n",
       "      <td>2.0</td>\n",
       "      <td>Friday</td>\n",
       "    </tr>\n",
       "    <tr>\n",
       "      <th>2020-01-04</th>\n",
       "      <td>3</td>\n",
       "      <td>3.0</td>\n",
       "      <td>Saturday</td>\n",
       "    </tr>\n",
       "    <tr>\n",
       "      <th>2020-01-05</th>\n",
       "      <td>4</td>\n",
       "      <td>7.0</td>\n",
       "      <td>Sunday</td>\n",
       "    </tr>\n",
       "    <tr>\n",
       "      <th>2020-01-06</th>\n",
       "      <td>5</td>\n",
       "      <td>12.0</td>\n",
       "      <td>Monday</td>\n",
       "    </tr>\n",
       "    <tr>\n",
       "      <th>2020-01-07</th>\n",
       "      <td>6</td>\n",
       "      <td>6.0</td>\n",
       "      <td>Tuesday</td>\n",
       "    </tr>\n",
       "    <tr>\n",
       "      <th>2020-01-08</th>\n",
       "      <td>7</td>\n",
       "      <td>7.0</td>\n",
       "      <td>Wednesday</td>\n",
       "    </tr>\n",
       "    <tr>\n",
       "      <th>2020-01-09</th>\n",
       "      <td>8</td>\n",
       "      <td>8.0</td>\n",
       "      <td>Thursday</td>\n",
       "    </tr>\n",
       "    <tr>\n",
       "      <th>2020-01-10</th>\n",
       "      <td>9</td>\n",
       "      <td>9.0</td>\n",
       "      <td>Friday</td>\n",
       "    </tr>\n",
       "  </tbody>\n",
       "</table>\n",
       "</div>"
      ],
      "text/plain": [
       "            A  Rolling     GünAdi\n",
       "2020-01-01  0      0.0  Wednesday\n",
       "2020-01-02  1      1.0   Thursday\n",
       "2020-01-03  2      2.0     Friday\n",
       "2020-01-04  3      3.0   Saturday\n",
       "2020-01-05  4      7.0     Sunday\n",
       "2020-01-06  5     12.0     Monday\n",
       "2020-01-07  6      6.0    Tuesday\n",
       "2020-01-08  7      7.0  Wednesday\n",
       "2020-01-09  8      8.0   Thursday\n",
       "2020-01-10  9      9.0     Friday"
      ]
     },
     "execution_count": 6,
     "metadata": {},
     "output_type": "execute_result"
    }
   ],
   "source": [
    "from pandas.api.indexers import VariableOffsetWindowIndexer\n",
    "\n",
    "#\n",
    "df = pd.DataFrame(range(10), index = pd.date_range('2020',periods=10), columns=['A'])\n",
    "\n",
    "#bir iş günü kaydırma yapmak için\n",
    "indexer = VariableOffsetWindowIndexer(index=df.index, offset=pd.offsets.BDay(1))\n",
    "\n",
    "#Bir iş günü gördüğünde önceki pencereyi kapatıp yenmi pencere açar.\n",
    "df.rolling(window=indexer).sum()\n",
    "\n",
    "#\n",
    "df[\"Rolling\"] = df.rolling(window=indexer).sum()\n",
    "df[\"GünAdi\"] = df.index.day_name() #gün adlarını alıyoruz\n",
    "\n",
    "df"
   ]
  }
 ],
 "metadata": {
  "kernelspec": {
   "display_name": "Python 3",
   "language": "python",
   "name": "python3"
  },
  "language_info": {
   "codemirror_mode": {
    "name": "ipython",
    "version": 3
   },
   "file_extension": ".py",
   "mimetype": "text/x-python",
   "name": "python",
   "nbconvert_exporter": "python",
   "pygments_lexer": "ipython3",
   "version": "3.11.3"
  }
 },
 "nbformat": 4,
 "nbformat_minor": 2
}
