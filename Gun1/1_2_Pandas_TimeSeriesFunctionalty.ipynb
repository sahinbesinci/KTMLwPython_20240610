{
 "cells": [
  {
   "cell_type": "markdown",
   "metadata": {},
   "source": [
    "## Pandas Üzerinde Zaman Serileri İşlemleri\n",
    "* Pandas üzerinde 4 zaman konsepti bulunmaktadır.\n",
    "    * Belli bir zaman (`TimeStamp`) tanımlamak için: `to_datetime()` veya `date_range()`\n",
    "    * Zaman farkı (`TimeDelta`) tanımlamak için: `to_timedelta()` veya `timedelta_range()`\n",
    "      * yaz saati uygulamaları için `DST` (Daylight Saving Time) dönemlerinde sorunlar olabilir. Dikkate almaz.\n",
    "    * Tarih farkı (`DateOffset`) tanımlamak için: `DateOffset()` \n",
    "      Zamansal değişikleri otomaitik olarak hesaba katar.\n",
    "    * Zaman aralığının kendisi (`Period`) tanımlamak için: `Period()` veya `period_range()`"
   ]
  },
  {
   "cell_type": "code",
   "execution_count": 1,
   "metadata": {},
   "outputs": [],
   "source": [
    "import numpy as np\n",
    "import pandas as pd\n",
    "from datetime import date, datetime"
   ]
  },
  {
   "cell_type": "markdown",
   "metadata": {},
   "source": [
    "### Zaman Damgası (Timestamps) Tanımlamak"
   ]
  },
  {
   "cell_type": "markdown",
   "metadata": {},
   "source": [
    "#### Tek bir tarih oluşturmak"
   ]
  },
  {
   "cell_type": "code",
   "execution_count": 9,
   "metadata": {},
   "outputs": [
    {
     "data": {
      "text/plain": [
       "11"
      ]
     },
     "execution_count": 9,
     "metadata": {},
     "output_type": "execute_result"
    }
   ],
   "source": [
    "#metni tarih olarak tanımlayabiliriiz. datetime gibi\n",
    "pd.Timestamp('2016-01-05') #iso formatı ile tarih oluşturduk\n",
    "pd.Timestamp('2016-01-05 09:55:14') #tarih ve saat oluşturduk\n",
    "\n",
    "#şuantki tarihi almak için\n",
    "pd.Timestamp('now')\n",
    "pd.Timestamp('today')\n",
    "pd.Timestamp(datetime.now())\n",
    "\n",
    "#\n",
    "#zamanı parametre olarak vermek\n",
    "pd.Timestamp(2016, 1, 5)\n",
    "pd.Timestamp(year=2016, month=1, day=5)\n",
    "\n",
    "\n",
    "#\n",
    "bugun = pd.Timestamp('today')\n",
    "\n",
    "bugun.year\n",
    "bugun.month\n",
    "bugun.day\n",
    "\n",
    "#\n",
    "bugun.time().hour"
   ]
  },
  {
   "cell_type": "code",
   "execution_count": 14,
   "metadata": {},
   "outputs": [
    {
     "data": {
      "text/plain": [
       "'Monday'"
      ]
     },
     "execution_count": 14,
     "metadata": {},
     "output_type": "execute_result"
    }
   ],
   "source": [
    "pd.to_datetime('2016-01-05')  #str ile tarih oluşturduk\n",
    "pd.to_datetime(datetime.now()),\n",
    "\n",
    "#\n",
    "pd.to_datetime('10-06-2024', format='%d-%m-%Y') #format belirterek tarih oluşturduk\n",
    "\n",
    "#\n",
    "pd.to_datetime('10-06-2024', format='%d-%m-%Y').strftime(\"%A\") #datetime modulundeki gibi"
   ]
  },
  {
   "cell_type": "markdown",
   "metadata": {},
   "source": [
    "### `to_datetime `ekstra işlevleri"
   ]
  },
  {
   "cell_type": "markdown",
   "metadata": {},
   "source": [
    "#### Orijin belirtmek\n",
    "* belli bir tarihi baz alıp. o tairhden ileri geri tarihler üretebiliriz. Unit birim belirterek."
   ]
  },
  {
   "cell_type": "code",
   "execution_count": 17,
   "metadata": {},
   "outputs": [
    {
     "data": {
      "text/plain": [
       "DatetimeIndex(['2024-06-10', '2024-06-11', '2024-06-12', '2024-06-13'], dtype='datetime64[ns]', freq=None)"
      ]
     },
     "execution_count": 17,
     "metadata": {},
     "output_type": "execute_result"
    }
   ],
   "source": [
    "pd.to_datetime([0,1,2,3] , unit='D', origin=pd.Timestamp('2024-06-10')) #tarihleri oluşturduk"
   ]
  },
  {
   "cell_type": "markdown",
   "metadata": {},
   "source": [
    "#### Zaman Serisi Oluşturma ####\n",
    "* DatetimeIndex indexler kullanılmak üzere bir alan. Bir tarih de indexlerde kullanılabilir. datetimeindex tipine dönüştürülebilir."
   ]
  },
  {
   "cell_type": "code",
   "execution_count": 23,
   "metadata": {},
   "outputs": [
    {
     "data": {
      "text/plain": [
       "Index([10, 11, 12], dtype='int32')"
      ]
     },
     "execution_count": 23,
     "metadata": {},
     "output_type": "execute_result"
    }
   ],
   "source": [
    "pd.to_datetime(['2024-06-10','2024-06-11','2024-06-12']) #listeden oluşturduk.\n",
    "\n",
    "#\n",
    "dti = pd.to_datetime(['2024-06-10',\n",
    "                    np.datetime64('2024-06-11'),\n",
    "                    datetime(2024, 6, 12),\n",
    "                    ])\n",
    "\n",
    "#\n",
    "dti\n",
    "dti.month\n",
    "dti.day #broadcast özelliği"
   ]
  },
  {
   "cell_type": "code",
   "execution_count": 24,
   "metadata": {},
   "outputs": [
    {
     "data": {
      "text/plain": [
       "DatetimeIndex(['2024-06-10', '2024-06-11', '2024-06-12'], dtype='datetime64[ns]', freq=None)"
      ]
     },
     "execution_count": 24,
     "metadata": {},
     "output_type": "execute_result"
    }
   ],
   "source": [
    "pd.DatetimeIndex(['2024-06-10','2024-06-11','2024-06-12']) #index oluşturduk"
   ]
  },
  {
   "cell_type": "markdown",
   "metadata": {},
   "source": [
    "#### Zaman Aralığı Belirtmek"
   ]
  },
  {
   "cell_type": "code",
   "execution_count": 26,
   "metadata": {},
   "outputs": [
    {
     "data": {
      "text/plain": [
       "DatetimeIndex(['2024-06-10', '2024-06-11', '2024-06-12', '2024-06-13',\n",
       "               '2024-06-14'],\n",
       "              dtype='datetime64[ns]', freq='D')"
      ]
     },
     "execution_count": 26,
     "metadata": {},
     "output_type": "execute_result"
    }
   ],
   "source": [
    "pd.date_range(start='2024-06-10', end='2024-06-15') #tarih aralığı oluşturduk freq='D' default\n",
    "pd.date_range(start='2024-06-10', periods=5, freq='D') #tarih aralığı oluşturduk freq='D' default"
   ]
  },
  {
   "cell_type": "markdown",
   "metadata": {},
   "source": [
    "#### Zaman Dilimi Tanımlamak e DÖnüştürmek"
   ]
  },
  {
   "cell_type": "code",
   "execution_count": 29,
   "metadata": {},
   "outputs": [
    {
     "data": {
      "text/plain": [
       "DatetimeIndex(['2024-06-10 03:00:00+03:00', '2024-06-11 03:00:00+03:00',\n",
       "               '2024-06-12 03:00:00+03:00'],\n",
       "              dtype='datetime64[ns, Europe/Istanbul]', freq=None)"
      ]
     },
     "execution_count": 29,
     "metadata": {},
     "output_type": "execute_result"
    }
   ],
   "source": [
    "#önce localize edip sonra convert ile farklı zaman dilimlerine çevirebiliriz\n",
    "dti.tz_localize('UTC').tz_convert('Europe/Istanbul')"
   ]
  },
  {
   "cell_type": "markdown",
   "metadata": {},
   "source": [
    "#### Kolonlardan Tarih Üretme"
   ]
  },
  {
   "cell_type": "code",
   "execution_count": 38,
   "metadata": {},
   "outputs": [
    {
     "data": {
      "text/html": [
       "<div>\n",
       "<style scoped>\n",
       "    .dataframe tbody tr th:only-of-type {\n",
       "        vertical-align: middle;\n",
       "    }\n",
       "\n",
       "    .dataframe tbody tr th {\n",
       "        vertical-align: top;\n",
       "    }\n",
       "\n",
       "    .dataframe thead th {\n",
       "        text-align: right;\n",
       "    }\n",
       "</style>\n",
       "<table border=\"1\" class=\"dataframe\">\n",
       "  <thead>\n",
       "    <tr style=\"text-align: right;\">\n",
       "      <th></th>\n",
       "      <th>year</th>\n",
       "      <th>month</th>\n",
       "      <th>day</th>\n",
       "      <th>hour</th>\n",
       "      <th>tarih</th>\n",
       "    </tr>\n",
       "  </thead>\n",
       "  <tbody>\n",
       "    <tr>\n",
       "      <th>0</th>\n",
       "      <td>2024</td>\n",
       "      <td>6</td>\n",
       "      <td>10</td>\n",
       "      <td>9</td>\n",
       "      <td>2024-06-10 09:00:00</td>\n",
       "    </tr>\n",
       "    <tr>\n",
       "      <th>1</th>\n",
       "      <td>2025</td>\n",
       "      <td>7</td>\n",
       "      <td>11</td>\n",
       "      <td>10</td>\n",
       "      <td>2025-07-11 10:00:00</td>\n",
       "    </tr>\n",
       "  </tbody>\n",
       "</table>\n",
       "</div>"
      ],
      "text/plain": [
       "   year  month  day  hour               tarih\n",
       "0  2024      6   10     9 2024-06-10 09:00:00\n",
       "1  2025      7   11    10 2025-07-11 10:00:00"
      ]
     },
     "execution_count": 38,
     "metadata": {},
     "output_type": "execute_result"
    }
   ],
   "source": [
    "dfTarihli = pd.DataFrame({\n",
    "                        \"year\": [2024, 2025],\n",
    "                        \"month\": [6, 7],\n",
    "                        \"day\": [10, 11],\n",
    "                        \"hour\": [9, 10]\n",
    "                        })\n",
    "\n",
    "#\n",
    "#print(dfTarihli)\n",
    "\n",
    "pd.to_datetime(dfTarihli) #dataframe içindeki tarihleri datetime objesine çevirdik\n",
    "pd.to_datetime(dfTarihli.loc[:, ['year', 'month', 'day']]) #sadece belirli sütunları datetime objesine çevirdik\n",
    "\n",
    "#\n",
    "dfTarihli['tarih'] = pd.to_datetime(dfTarihli.loc[:, ['year', 'month', 'day','hour']])\n",
    "\n",
    "#\n",
    "dfTarihli"
   ]
  },
  {
   "cell_type": "markdown",
   "metadata": {},
   "source": [
    "### Zaman Farkı Tanımlamak"
   ]
  },
  {
   "cell_type": "markdown",
   "metadata": {},
   "source": [
    "#### Timedelta"
   ]
  },
  {
   "cell_type": "code",
   "execution_count": 40,
   "metadata": {},
   "outputs": [
    {
     "data": {
      "text/plain": [
       "Timedelta('5 days 03:12:30')"
      ]
     },
     "execution_count": 40,
     "metadata": {},
     "output_type": "execute_result"
    }
   ],
   "source": [
    "pd.Timedelta('5 days 3 hours 12 minutes 30 seconds') #timedelta oluşturduk\n",
    "pd.Timedelta(days=5, hours=3, minutes=12, seconds=30) #timedelta oluşturduk"
   ]
  },
  {
   "cell_type": "markdown",
   "metadata": {},
   "source": [
    "#### DateOffset"
   ]
  },
  {
   "cell_type": "code",
   "execution_count": 41,
   "metadata": {},
   "outputs": [
    {
     "data": {
      "text/plain": [
       "<DateOffset: days=5>"
      ]
     },
     "execution_count": 41,
     "metadata": {},
     "output_type": "execute_result"
    }
   ],
   "source": [
    "pd.DateOffset(days=5) #5 gün ekledik"
   ]
  },
  {
   "cell_type": "markdown",
   "metadata": {},
   "source": [
    "#### Farkları zamana ekleyip çıkaralım"
   ]
  },
  {
   "cell_type": "code",
   "execution_count": 43,
   "metadata": {},
   "outputs": [
    {
     "data": {
      "text/plain": [
       "Timestamp('2024-06-15 03:12:30')"
      ]
     },
     "execution_count": 43,
     "metadata": {},
     "output_type": "execute_result"
    }
   ],
   "source": [
    "#zaman + zamnFarkı = zaman\n",
    "pd.Timestamp('2024-06-10') + pd.Timedelta('5 days 3 hours 12 minutes 30 seconds') #timedelta toplama"
   ]
  },
  {
   "cell_type": "markdown",
   "metadata": {},
   "source": [
    "#### Birden fazla zaman farkı"
   ]
  },
  {
   "cell_type": "code",
   "execution_count": 44,
   "metadata": {},
   "outputs": [
    {
     "data": {
      "text/plain": [
       "TimedeltaIndex(['0 days', '1 days', '2 days', '3 days', '4 days', '5 days',\n",
       "                '6 days', '7 days', '8 days'],\n",
       "               dtype='timedelta64[ns]', freq='D')"
      ]
     },
     "execution_count": 44,
     "metadata": {},
     "output_type": "execute_result"
    }
   ],
   "source": [
    "pd.timedelta_range(0, periods=9, freq='D') #timedelta aralığı oluşturduk"
   ]
  },
  {
   "cell_type": "code",
   "execution_count": 46,
   "metadata": {},
   "outputs": [
    {
     "data": {
      "text/plain": [
       "DatetimeIndex(['2024-06-10 11:45:37.336387', '2024-06-11 11:45:37.336387',\n",
       "               '2024-06-12 11:45:37.336387', '2024-06-13 11:45:37.336387',\n",
       "               '2024-06-14 11:45:37.336387', '2024-06-15 11:45:37.336387',\n",
       "               '2024-06-16 11:45:37.336387', '2024-06-17 11:45:37.336387',\n",
       "               '2024-06-18 11:45:37.336387'],\n",
       "              dtype='datetime64[ns]', freq='D')"
      ]
     },
     "execution_count": 46,
     "metadata": {},
     "output_type": "execute_result"
    }
   ],
   "source": [
    "datetime.now() + pd.timedelta_range(0, periods=9, freq='D') "
   ]
  },
  {
   "cell_type": "markdown",
   "metadata": {},
   "source": [
    "### Period Tanımlamak"
   ]
  },
  {
   "cell_type": "markdown",
   "metadata": {},
   "source": [
    "#### Frekanslar Belirtmek"
   ]
  },
  {
   "cell_type": "code",
   "execution_count": 56,
   "metadata": {},
   "outputs": [
    {
     "data": {
      "text/plain": [
       "Timestamp('2024-06-02 23:59:59.999999999')"
      ]
     },
     "execution_count": 56,
     "metadata": {},
     "output_type": "execute_result"
    }
   ],
   "source": [
    "pd.Period('2024-06') #aylık periyot oluşturduk varsayılan freq='M'\n",
    "pd.Period('2024-06', freq='W') #günlük periyot oluşturduk\n",
    "\n",
    "#\n",
    "haftalikPeriyot = pd.Period('2024-06', freq='W')\n",
    "haftalikPeriyot.start_time\n",
    "haftalikPeriyot.end_time\n",
    "\n",
    "#\n",
    "#frekansı sonradan değiştirmek\n",
    "haftalikPeriyot.asfreq('H').end_time #frekansı değiştirdik"
   ]
  },
  {
   "cell_type": "markdown",
   "metadata": {},
   "source": [
    "#### Offset Eklemek"
   ]
  },
  {
   "cell_type": "code",
   "execution_count": 60,
   "metadata": {},
   "outputs": [
    {
     "data": {
      "text/plain": [
       "Period('2024-06-10 12:00', 'H')"
      ]
     },
     "execution_count": 60,
     "metadata": {},
     "output_type": "execute_result"
    }
   ],
   "source": [
    "p = pd.Period('2024-06-10 09:00', freq='H')\n",
    "p = p + pd.offsets.Hour(3) #3 saat ekledik\n",
    "\n",
    "#\n",
    "p"
   ]
  },
  {
   "cell_type": "code",
   "execution_count": 62,
   "metadata": {},
   "outputs": [
    {
     "data": {
      "text/plain": [
       "Period('2025-03', 'M')"
      ]
     },
     "execution_count": 62,
     "metadata": {},
     "output_type": "execute_result"
    }
   ],
   "source": [
    "p = pd.Period('2024-10', freq='M') #5 ay ekledik\n",
    "p = p+pd.offsets.MonthEnd(5) #5 ay ekledik\n",
    "\n",
    "p\n"
   ]
  },
  {
   "cell_type": "markdown",
   "metadata": {},
   "source": [
    "### Frekans Değiştirmek ve Eksik Değerleri Doldurmak"
   ]
  },
  {
   "cell_type": "code",
   "execution_count": 65,
   "metadata": {},
   "outputs": [
    {
     "data": {
      "text/plain": [
       "2024-06-10 00:00:00   -0.511505\n",
       "2024-06-10 00:01:00   -0.982133\n",
       "2024-06-10 00:02:00   -0.288264\n",
       "2024-06-10 00:03:00   -0.997051\n",
       "2024-06-10 00:04:00   -0.611226\n",
       "Freq: T, dtype: float64"
      ]
     },
     "execution_count": 65,
     "metadata": {},
     "output_type": "execute_result"
    }
   ],
   "source": [
    "ind = pd.date_range(start='2024-06-10',periods=5,freq='min') #5 dakikalık aralık oluşturduk\n",
    "ts  = pd.Series(np.random.randn(len(ind)), index=ind) \n",
    "ts"
   ]
  },
  {
   "cell_type": "code",
   "execution_count": 75,
   "metadata": {},
   "outputs": [
    {
     "data": {
      "text/plain": [
       "2024-06-10 00:00:00   -0.511505\n",
       "2024-06-10 00:00:30    0.000000\n",
       "2024-06-10 00:01:00   -0.982133\n",
       "2024-06-10 00:01:30    0.000000\n",
       "2024-06-10 00:02:00   -0.288264\n",
       "2024-06-10 00:02:30    0.000000\n",
       "2024-06-10 00:03:00   -0.997051\n",
       "2024-06-10 00:03:30    0.000000\n",
       "2024-06-10 00:04:00   -0.611226\n",
       "Freq: 30S, dtype: float64"
      ]
     },
     "execution_count": 75,
     "metadata": {},
     "output_type": "execute_result"
    }
   ],
   "source": [
    "ts.asfreq('30s') #30 sn'lik aralık oluşturduk #eksik veriler oluştu.\n",
    "\n",
    "#\n",
    "ts.asfreq('30s', method='ffill') #eksik veriyi bir önceki veri ile doldurduk\n",
    "ts.asfreq('30s', method='bfill') #eksik veriyi bir sonraki veri ile doldurduk\n",
    "ts.asfreq('30s', method='nearest') #eksik veriyi en yakın veri ile doldurduk\n",
    "\n",
    "#fillna\n",
    "ts.asfreq('30s').fillna(0) #method='ffill' eksik veriyi bir önceki veri ile doldurduk"
   ]
  },
  {
   "cell_type": "markdown",
   "metadata": {},
   "source": [
    "### Period Olarak Görmek"
   ]
  },
  {
   "cell_type": "code",
   "execution_count": 77,
   "metadata": {},
   "outputs": [],
   "source": [
    "ind = pd.date_range(start='2024-06-10',periods=90,freq='D') #90 günlük aralık oluşturduk\n",
    "ts  = pd.Series(np.random.randn(len(ind)), index=ind) "
   ]
  },
  {
   "cell_type": "code",
   "execution_count": 82,
   "metadata": {},
   "outputs": [
    {
     "data": {
      "text/plain": [
       "2024-06-30 23:59:59.999999999   -1.094832\n",
       "2024-06-30 23:59:59.999999999    0.780885\n",
       "2024-06-30 23:59:59.999999999   -0.737344\n",
       "2024-06-30 23:59:59.999999999   -2.034634\n",
       "2024-06-30 23:59:59.999999999   -0.382227\n",
       "                                   ...   \n",
       "2024-09-30 23:59:59.999999999   -0.522980\n",
       "2024-09-30 23:59:59.999999999   -0.274258\n",
       "2024-09-30 23:59:59.999999999    0.145207\n",
       "2024-09-30 23:59:59.999999999   -0.215110\n",
       "2024-09-30 23:59:59.999999999   -0.486702\n",
       "Length: 90, dtype: float64"
      ]
     },
     "execution_count": 82,
     "metadata": {},
     "output_type": "execute_result"
    }
   ],
   "source": [
    "#aylık periyoda çekelim\n",
    "tsp = ts.to_period(freq = 'M') #aylık periyoda çevirdik. Aylar görünecek 2024-06 gibi\n",
    "\n",
    "#aylık periyodun ortalamasını alalım\n",
    "tsp.to_timestamp() #ayları tarih olarak gösterdik ayın 1. günü olarak gösterdik. yılı ve ayı kullanıp günü 1 olarak ayarladık\n",
    "tsp.to_timestamp(how='end') #ayları tarih olarak gösterdik ayın son günü olarak gösterdik. yılı ve ayı kullanıp günü 1 olarak ayarladık\n",
    "#periyodun end_time'ını almak için"
   ]
  },
  {
   "cell_type": "code",
   "execution_count": 85,
   "metadata": {},
   "outputs": [
    {
     "data": {
      "text/plain": [
       "PeriodIndex(['2024-06', '2024-07'], dtype='period[M]')"
      ]
     },
     "execution_count": 85,
     "metadata": {},
     "output_type": "execute_result"
    }
   ],
   "source": [
    "#50 günlük aralık oluşturduk\n",
    "pd.date_range(start='2024-06-10', periods=50, freq='D') \\\n",
    "    .to_period(freq='M') \\\n",
    "    .unique() #aylık periyotları unique olarak aldık"
   ]
  },
  {
   "cell_type": "markdown",
   "metadata": {},
   "source": [
    "### Resample ile Zaman Bazlı Gruplama"
   ]
  },
  {
   "cell_type": "code",
   "execution_count": 95,
   "metadata": {},
   "outputs": [
    {
     "data": {
      "text/html": [
       "<div>\n",
       "<style scoped>\n",
       "    .dataframe tbody tr th:only-of-type {\n",
       "        vertical-align: middle;\n",
       "    }\n",
       "\n",
       "    .dataframe tbody tr th {\n",
       "        vertical-align: top;\n",
       "    }\n",
       "\n",
       "    .dataframe thead th {\n",
       "        text-align: right;\n",
       "    }\n",
       "</style>\n",
       "<table border=\"1\" class=\"dataframe\">\n",
       "  <thead>\n",
       "    <tr style=\"text-align: right;\">\n",
       "      <th></th>\n",
       "      <th>mean</th>\n",
       "      <th>std</th>\n",
       "    </tr>\n",
       "  </thead>\n",
       "  <tbody>\n",
       "    <tr>\n",
       "      <th>2024-06</th>\n",
       "      <td>0.050735</td>\n",
       "      <td>0.933931</td>\n",
       "    </tr>\n",
       "    <tr>\n",
       "      <th>2024-07</th>\n",
       "      <td>0.120779</td>\n",
       "      <td>0.912160</td>\n",
       "    </tr>\n",
       "  </tbody>\n",
       "</table>\n",
       "</div>"
      ],
      "text/plain": [
       "             mean       std\n",
       "2024-06  0.050735  0.933931\n",
       "2024-07  0.120779  0.912160"
      ]
     },
     "execution_count": 95,
     "metadata": {},
     "output_type": "execute_result"
    }
   ],
   "source": [
    "ind=pd.date_range(start='2024-06-10', periods=50, freq='D')\n",
    "ts = pd.Series(np.random.randn(len(ind)), index=ind)\n",
    "\n",
    "#\n",
    "#zamana göre gruplayalım\n",
    "#ts.groupby(pd.Grouper(freq='M')).mean() #aylık ortalamaları aldık\n",
    "ts.resample('M').mean()  #aylık ortalamaları aldık\n",
    "ts.resample('M').mean().to_period('M') #aylık ortalamları aldık. Zamanı da ay bazlı periyoda çevirdik\n",
    "\n",
    "ts.resample('M').agg(['mean', 'std']).to_period('M') #aylık ortalama ve standart sapmaları aldık #asfreq='M' ile sadece frekansı değiştirebiliriz"
   ]
  },
  {
   "cell_type": "markdown",
   "metadata": {},
   "source": [
    "### Truncate ve Shift"
   ]
  },
  {
   "cell_type": "code",
   "execution_count": 101,
   "metadata": {},
   "outputs": [
    {
     "data": {
      "text/plain": [
       "2024-06-15    0.138174\n",
       "2024-06-16    0.805620\n",
       "2024-06-17    1.029652\n",
       "2024-06-18    1.704663\n",
       "2024-06-19   -0.214751\n",
       "2024-06-20   -1.284912\n",
       "Freq: D, dtype: float64"
      ]
     },
     "execution_count": 101,
     "metadata": {},
     "output_type": "execute_result"
    }
   ],
   "source": [
    "#truncate ile belirli bir zaman aralığını alabiliriz\n",
    "ind = pd.date_range(start='2024-06-10', periods=15, freq='D')\n",
    "ts = pd.Series(np.random.randn(len(ind)), index=ind)\n",
    "\n",
    "#\n",
    "ts.truncate(before='2024-06-15', after='2024-06-20') #belirli bir zaman aralığını aldık"
   ]
  },
  {
   "cell_type": "code",
   "execution_count": 102,
   "metadata": {},
   "outputs": [
    {
     "data": {
      "text/plain": [
       "2024-06-10         NaN\n",
       "2024-06-11         NaN\n",
       "2024-06-12    1.160553\n",
       "2024-06-13    0.959078\n",
       "2024-06-14    2.752241\n",
       "2024-06-15   -1.288813\n",
       "2024-06-16    0.607937\n",
       "2024-06-17    0.138174\n",
       "2024-06-18    0.805620\n",
       "2024-06-19    1.029652\n",
       "2024-06-20    1.704663\n",
       "2024-06-21   -0.214751\n",
       "2024-06-22   -1.284912\n",
       "2024-06-23   -2.347489\n",
       "2024-06-24    2.095972\n",
       "Freq: D, dtype: float64"
      ]
     },
     "execution_count": 102,
     "metadata": {},
     "output_type": "execute_result"
    }
   ],
   "source": [
    "ts.shift(2) #seriyi 2 birim kaydırdık."
   ]
  },
  {
   "cell_type": "markdown",
   "metadata": {},
   "source": [
    "### `dt` alt modulu ile tarih ve saat işlemleri"
   ]
  },
  {
   "cell_type": "code",
   "execution_count": 126,
   "metadata": {},
   "outputs": [
    {
     "data": {
      "text/plain": [
       "0       Monday\n",
       "1      Tuesday\n",
       "2    Wednesday\n",
       "3     Thursday\n",
       "4       Friday\n",
       "Name: Tarih, dtype: object"
      ]
     },
     "execution_count": 126,
     "metadata": {},
     "output_type": "execute_result"
    }
   ],
   "source": [
    "#gün isimlerini aldık\n",
    "#tarihlerle oldu bir dataFrame oluşturduk\n",
    "df = pd.DataFrame({\n",
    "    'Tarih': pd.date_range(start='2024-06-10', periods=5, freq='D'),\n",
    "    'Deger': np.random.randint(0,100,5)\n",
    "})\n",
    "\n",
    "#\n",
    "df\n",
    "\n",
    "#\n",
    "df.Tarih.dt.day_name() #gün isimlerini aldık\n",
    "df.Tarih.dt.strftime('%A') #gün isimlerini aldık"
   ]
  },
  {
   "cell_type": "markdown",
   "metadata": {},
   "source": [
    "### `diff` ile bir önceki değerden farkı alabiliriz"
   ]
  },
  {
   "cell_type": "code",
   "execution_count": 127,
   "metadata": {},
   "outputs": [
    {
     "data": {
      "text/html": [
       "<div>\n",
       "<style scoped>\n",
       "    .dataframe tbody tr th:only-of-type {\n",
       "        vertical-align: middle;\n",
       "    }\n",
       "\n",
       "    .dataframe tbody tr th {\n",
       "        vertical-align: top;\n",
       "    }\n",
       "\n",
       "    .dataframe thead th {\n",
       "        text-align: right;\n",
       "    }\n",
       "</style>\n",
       "<table border=\"1\" class=\"dataframe\">\n",
       "  <thead>\n",
       "    <tr style=\"text-align: right;\">\n",
       "      <th></th>\n",
       "      <th>Deger</th>\n",
       "    </tr>\n",
       "    <tr>\n",
       "      <th>Tarih</th>\n",
       "      <th></th>\n",
       "    </tr>\n",
       "  </thead>\n",
       "  <tbody>\n",
       "    <tr>\n",
       "      <th>2024-06-10</th>\n",
       "      <td>36</td>\n",
       "    </tr>\n",
       "    <tr>\n",
       "      <th>2024-06-11</th>\n",
       "      <td>6</td>\n",
       "    </tr>\n",
       "    <tr>\n",
       "      <th>2024-06-12</th>\n",
       "      <td>47</td>\n",
       "    </tr>\n",
       "    <tr>\n",
       "      <th>2024-06-13</th>\n",
       "      <td>48</td>\n",
       "    </tr>\n",
       "    <tr>\n",
       "      <th>2024-06-14</th>\n",
       "      <td>10</td>\n",
       "    </tr>\n",
       "  </tbody>\n",
       "</table>\n",
       "</div>"
      ],
      "text/plain": [
       "            Deger\n",
       "Tarih            \n",
       "2024-06-10     36\n",
       "2024-06-11      6\n",
       "2024-06-12     47\n",
       "2024-06-13     48\n",
       "2024-06-14     10"
      ]
     },
     "execution_count": 127,
     "metadata": {},
     "output_type": "execute_result"
    }
   ],
   "source": [
    "df = df.set_index('Tarih')\n",
    "df"
   ]
  },
  {
   "cell_type": "code",
   "execution_count": 128,
   "metadata": {},
   "outputs": [
    {
     "data": {
      "text/html": [
       "<div>\n",
       "<style scoped>\n",
       "    .dataframe tbody tr th:only-of-type {\n",
       "        vertical-align: middle;\n",
       "    }\n",
       "\n",
       "    .dataframe tbody tr th {\n",
       "        vertical-align: top;\n",
       "    }\n",
       "\n",
       "    .dataframe thead th {\n",
       "        text-align: right;\n",
       "    }\n",
       "</style>\n",
       "<table border=\"1\" class=\"dataframe\">\n",
       "  <thead>\n",
       "    <tr style=\"text-align: right;\">\n",
       "      <th></th>\n",
       "      <th>Deger</th>\n",
       "      <th>BirOncekiDegeriCikar</th>\n",
       "      <th>İkiOncekiDegeriCikar</th>\n",
       "    </tr>\n",
       "    <tr>\n",
       "      <th>Tarih</th>\n",
       "      <th></th>\n",
       "      <th></th>\n",
       "      <th></th>\n",
       "    </tr>\n",
       "  </thead>\n",
       "  <tbody>\n",
       "    <tr>\n",
       "      <th>2024-06-10</th>\n",
       "      <td>36</td>\n",
       "      <td>NaN</td>\n",
       "      <td>NaN</td>\n",
       "    </tr>\n",
       "    <tr>\n",
       "      <th>2024-06-11</th>\n",
       "      <td>6</td>\n",
       "      <td>-30.0</td>\n",
       "      <td>NaN</td>\n",
       "    </tr>\n",
       "    <tr>\n",
       "      <th>2024-06-12</th>\n",
       "      <td>47</td>\n",
       "      <td>41.0</td>\n",
       "      <td>11.0</td>\n",
       "    </tr>\n",
       "    <tr>\n",
       "      <th>2024-06-13</th>\n",
       "      <td>48</td>\n",
       "      <td>1.0</td>\n",
       "      <td>42.0</td>\n",
       "    </tr>\n",
       "    <tr>\n",
       "      <th>2024-06-14</th>\n",
       "      <td>10</td>\n",
       "      <td>-38.0</td>\n",
       "      <td>-37.0</td>\n",
       "    </tr>\n",
       "  </tbody>\n",
       "</table>\n",
       "</div>"
      ],
      "text/plain": [
       "            Deger  BirOncekiDegeriCikar  İkiOncekiDegeriCikar\n",
       "Tarih                                                        \n",
       "2024-06-10     36                   NaN                   NaN\n",
       "2024-06-11      6                 -30.0                   NaN\n",
       "2024-06-12     47                  41.0                  11.0\n",
       "2024-06-13     48                   1.0                  42.0\n",
       "2024-06-14     10                 -38.0                 -37.0"
      ]
     },
     "execution_count": 128,
     "metadata": {},
     "output_type": "execute_result"
    }
   ],
   "source": [
    "df[\"BirOncekiDegeriCikar\"] = df.Deger.diff(1) #bir önceki değer ile farkı\n",
    "df[\"İkiOncekiDegeriCikar\"] = df.Deger.diff(2) #iki önceki değer ile farkı\n",
    "\n",
    "df"
   ]
  }
 ],
 "metadata": {
  "kernelspec": {
   "display_name": "Python 3",
   "language": "python",
   "name": "python3"
  },
  "language_info": {
   "codemirror_mode": {
    "name": "ipython",
    "version": 3
   },
   "file_extension": ".py",
   "mimetype": "text/x-python",
   "name": "python",
   "nbconvert_exporter": "python",
   "pygments_lexer": "ipython3",
   "version": "3.11.3"
  }
 },
 "nbformat": 4,
 "nbformat_minor": 2
}
